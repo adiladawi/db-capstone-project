{
 "cells": [
  {
   "cell_type": "code",
   "execution_count": null,
   "id": "074906e7-32ef-4e79-ac95-a69b63cd637d",
   "metadata": {},
   "outputs": [],
   "source": [
    "# Import MySQL Connector/Python \n",
    "from mysql.connector.pooling import  MySQLConnectionPool\n",
    "from mysql.connector import Error\n",
    "\n",
    "# Set configuration\n",
    "# replace host by \"127.0.0.1\" if working with database on localhost\n",
    "# replace password and user fields with your credentials\n",
    "\n",
    "dbconfig = {\n",
    "    \"user\" : \"capstone\",\n",
    "    \"password\" : \"password\",\n",
    "    \"host\" : \"192.168.56.2\",\n",
    "    \"database\" : \"LittleLemonDB\"\n",
    "}\n",
    "\n",
    "pool_name = \"pool_a\"\n",
    "pool_size = 5"
   ]
  },
  {
   "cell_type": "code",
   "execution_count": null,
   "id": "b4e417ee-06e0-47bf-8db0-4b0dd1f5fe06",
   "metadata": {},
   "outputs": [],
   "source": [
    "# Almost every action on the database can fail (for example due to network failure)\n",
    "# Therefore, it's good to handle exceptions on every connection and cursor method call\n",
    "# request. But the pattern will always be the same:\n",
    "# try:\n",
    "#    print(<Doing something>)\n",
    "#    <cursor/connection method call>\n",
    "#    print(<Done something>)\n",
    "# except connector.Error as err:\n",
    "#    print(<Error doing something>)\n",
    "#    print(\"Error code:\", err.errno)\n",
    "#    print(\"Error message:\", err.msg)\n",
    "#\n",
    "# In order to catch all these exceptions and not to repeat the same code multiple times,\n",
    "# I'll write a wrapper for all the calls inside this construction with a single line of \n",
    "# code afterwards. I would prefer decorator, but decorators do not seem to work without \n",
    "# def's As a bonus, it will enforce me to write suitable descriptions in the 'print'\n",
    "# statements as required by the assignement guidelines.\n",
    "\n",
    "def log_and_catch(action_str, func, *args, **kwargs):\n",
    "    try:\n",
    "        print(action_str)\n",
    "        result = func(*args, **kwargs)\n",
    "        print(\"Success\")\n",
    "        return result\n",
    "    except Error as err:\n",
    "        print(\"Error\", action_str)\n",
    "        print(\"Error code:\", err.errno)\n",
    "        print(\"Error message:\", err.msg, \"\\n\")\n",
    "        return None"
   ]
  },
  {
   "cell_type": "code",
   "execution_count": null,
   "id": "814672b3-ced4-4893-95a8-7933cbb710e9",
   "metadata": {},
   "outputs": [],
   "source": [
    "# Create the pool. log_and_catch defined above provides try .. except error handling\n",
    "\n",
    "pool = log_and_catch(\n",
    "    \"Creating the connection pool %s for the database %s\" % (pool_name, dbconfig[\"database\"]),\n",
    "    MySQLConnectionPool,\n",
    "    pool_name=pool_name,\n",
    "    pool_size=pool_size,\n",
    "    **dbconfig)"
   ]
  },
  {
   "cell_type": "code",
   "execution_count": null,
   "id": "26b3d4b6-cc5b-48fe-a88f-4708a503bd9a",
   "metadata": {},
   "outputs": [],
   "source": [
    "connection = log_and_catch(\n",
    "    \"Obtaining conection from the pool\",\n",
    "    pool.get_connection)"
   ]
  },
  {
   "cell_type": "code",
   "execution_count": null,
   "id": "9092854e-9c8a-4cf3-b4da-f5fd312c89f4",
   "metadata": {},
   "outputs": [],
   "source": [
    "cursor = log_and_catch(\n",
    "    \"Allocating cursor\",\n",
    "    connection.cursor,\n",
    "    buffered=True)"
   ]
  },
  {
   "cell_type": "code",
   "execution_count": null,
   "id": "eb5e7bb3-467c-49c1-a586-01b6e6a63b13",
   "metadata": {},
   "outputs": [],
   "source": [
    "show_tables_query = \"SHOW tables\" \n",
    "\n",
    "log_and_catch(\n",
    "    \"Querying tables\",\n",
    "    cursor.execute,\n",
    "    show_tables_query)\n",
    "\n",
    "results = log_and_catch(\n",
    "    \"Fetching data\",\n",
    "    cursor.fetchall)\n",
    "\n",
    "for r in results:\n",
    "    print(r)"
   ]
  },
  {
   "cell_type": "code",
   "execution_count": null,
   "id": "3ece46f3-bb05-4b30-ad5f-8dd1156be7f0",
   "metadata": {},
   "outputs": [],
   "source": [
    "promo_query = \"\"\"\n",
    "SELECT\n",
    "FirstName,\n",
    "LastName,\n",
    "Email\n",
    "FROM\n",
    "Customers JOIN Orders ON Orders.CustomerID = Customers.ID\n",
    "WHERE TotalCost > 60\n",
    "\"\"\"\n",
    "\n",
    "log_and_catch(\n",
    "    \"Querying Users Promo Details\",\n",
    "    cursor.execute,\n",
    "    promo_query)\n",
    "\n",
    "results = log_and_catch(\n",
    "    \"Fetching data\",\n",
    "    cursor.fetchall)\n",
    "\n",
    "for r in results:\n",
    "    print(r)"
   ]
  },
  {
   "cell_type": "code",
   "execution_count": null,
   "id": "dc063ac0-76c8-4a67-ad74-f699c28085d3",
   "metadata": {},
   "outputs": [],
   "source": []
  }
 ],
 "metadata": {
  "kernelspec": {
   "display_name": "Python 3 (ipykernel)",
   "language": "python",
   "name": "python3"
  },
  "language_info": {
   "codemirror_mode": {
    "name": "ipython",
    "version": 3
   },
   "file_extension": ".py",
   "mimetype": "text/x-python",
   "name": "python",
   "nbconvert_exporter": "python",
   "pygments_lexer": "ipython3",
   "version": "3.10.9"
  }
 },
 "nbformat": 4,
 "nbformat_minor": 5
}
